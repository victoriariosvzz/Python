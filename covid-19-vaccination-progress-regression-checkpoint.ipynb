{
 "cells": [
  {
   "cell_type": "markdown",
   "metadata": {},
   "source": [
    "# Regression Model Selection (step-by-step) on Covid-19 Vaccination Progress Worldwide dataset"
   ]
  },
  {
   "cell_type": "markdown",
   "metadata": {},
   "source": [
    "Since I started learning Machine Learning and the great diversity of models available to fit my data, I started asking myself the big question of: *okay, I know I should use a Regression Model for numerical predictions but, which of these models should I choose for my data?* Well, don't worry, I'll show you **one way** to approach this question and come up with a decent result that you could use for all your regression problems. The process I follow at the moment is:\n",
    "- 1. Importing the required libraries    \n",
    "- 2. Importing my dataset (usually a csv file)    \n",
    "- 3. Preprocessing the data (taking care of missing values and encoding categorical data)    \n",
    "- 4. Splitting the dataset into the Training set and Test set (optional)  \n",
    "- 5. Training and testing each Regression model I want to evaluate  \n",
    "- 6. Evaluating the Model Performance (for each model)  \n",
    "- 7. Selecting the winner! (The model with the r squared value closer to 1)  \n",
    "\n",
    "Without further ado, let's get hands on an example of this process for better illustration of the process."
   ]
  },
  {
   "cell_type": "markdown",
   "metadata": {},
   "source": [
    "## Importing the libraries"
   ]
  },
  {
   "cell_type": "markdown",
   "metadata": {},
   "source": [
    "For this specific application, and I believe it can also be the case for yours, the following libraries are needed:"
   ]
  },
  {
   "cell_type": "code",
   "execution_count": 1,
   "metadata": {},
   "outputs": [],
   "source": [
    "import pandas as pd # to import the dataset\n",
    "import numpy as np # to handle matrices\n",
    "import matplotlib.pyplot as plt # to plot"
   ]
  },
  {
   "cell_type": "markdown",
   "metadata": {},
   "source": [
    "## Importing the data"
   ]
  },
  {
   "cell_type": "markdown",
   "metadata": {},
   "source": [
    "You can find the dataset i'm using here with the title of **COVID-19 World Vaccination Progress** in kaggle (https://www.kaggle.com/gpreda/covid-world-vaccination-progress), which provides the Daily and Total Vaccination for COVID-19 in the World"
   ]
  },
  {
   "cell_type": "code",
   "execution_count": 2,
   "metadata": {},
   "outputs": [
    {
     "data": {
      "text/html": [
       "<div>\n",
       "<style scoped>\n",
       "    .dataframe tbody tr th:only-of-type {\n",
       "        vertical-align: middle;\n",
       "    }\n",
       "\n",
       "    .dataframe tbody tr th {\n",
       "        vertical-align: top;\n",
       "    }\n",
       "\n",
       "    .dataframe thead th {\n",
       "        text-align: right;\n",
       "    }\n",
       "</style>\n",
       "<table border=\"1\" class=\"dataframe\">\n",
       "  <thead>\n",
       "    <tr style=\"text-align: right;\">\n",
       "      <th></th>\n",
       "      <th>country</th>\n",
       "      <th>iso_code</th>\n",
       "      <th>date</th>\n",
       "      <th>total_vaccinations</th>\n",
       "      <th>people_vaccinated</th>\n",
       "      <th>people_fully_vaccinated</th>\n",
       "      <th>daily_vaccinations_raw</th>\n",
       "      <th>daily_vaccinations</th>\n",
       "      <th>total_vaccinations_per_hundred</th>\n",
       "      <th>people_vaccinated_per_hundred</th>\n",
       "      <th>people_fully_vaccinated_per_hundred</th>\n",
       "      <th>daily_vaccinations_per_million</th>\n",
       "      <th>vaccines</th>\n",
       "      <th>source_name</th>\n",
       "      <th>source_website</th>\n",
       "    </tr>\n",
       "  </thead>\n",
       "  <tbody>\n",
       "    <tr>\n",
       "      <th>0</th>\n",
       "      <td>Albania</td>\n",
       "      <td>ALB</td>\n",
       "      <td>2021-01-10</td>\n",
       "      <td>0.0</td>\n",
       "      <td>0.0</td>\n",
       "      <td>NaN</td>\n",
       "      <td>NaN</td>\n",
       "      <td>NaN</td>\n",
       "      <td>0.00</td>\n",
       "      <td>0.00</td>\n",
       "      <td>NaN</td>\n",
       "      <td>NaN</td>\n",
       "      <td>Pfizer/BioNTech</td>\n",
       "      <td>Ministry of Health</td>\n",
       "      <td>https://shendetesia.gov.al/covid19-ministria-e...</td>\n",
       "    </tr>\n",
       "    <tr>\n",
       "      <th>1</th>\n",
       "      <td>Albania</td>\n",
       "      <td>ALB</td>\n",
       "      <td>2021-01-11</td>\n",
       "      <td>NaN</td>\n",
       "      <td>NaN</td>\n",
       "      <td>NaN</td>\n",
       "      <td>NaN</td>\n",
       "      <td>64.0</td>\n",
       "      <td>NaN</td>\n",
       "      <td>NaN</td>\n",
       "      <td>NaN</td>\n",
       "      <td>22.0</td>\n",
       "      <td>Pfizer/BioNTech</td>\n",
       "      <td>Ministry of Health</td>\n",
       "      <td>https://shendetesia.gov.al/covid19-ministria-e...</td>\n",
       "    </tr>\n",
       "    <tr>\n",
       "      <th>2</th>\n",
       "      <td>Albania</td>\n",
       "      <td>ALB</td>\n",
       "      <td>2021-01-12</td>\n",
       "      <td>128.0</td>\n",
       "      <td>128.0</td>\n",
       "      <td>NaN</td>\n",
       "      <td>NaN</td>\n",
       "      <td>64.0</td>\n",
       "      <td>0.00</td>\n",
       "      <td>0.00</td>\n",
       "      <td>NaN</td>\n",
       "      <td>22.0</td>\n",
       "      <td>Pfizer/BioNTech</td>\n",
       "      <td>Ministry of Health</td>\n",
       "      <td>https://shendetesia.gov.al/covid19-ministria-e...</td>\n",
       "    </tr>\n",
       "    <tr>\n",
       "      <th>3</th>\n",
       "      <td>Albania</td>\n",
       "      <td>ALB</td>\n",
       "      <td>2021-01-13</td>\n",
       "      <td>188.0</td>\n",
       "      <td>188.0</td>\n",
       "      <td>NaN</td>\n",
       "      <td>60.0</td>\n",
       "      <td>63.0</td>\n",
       "      <td>0.01</td>\n",
       "      <td>0.01</td>\n",
       "      <td>NaN</td>\n",
       "      <td>22.0</td>\n",
       "      <td>Pfizer/BioNTech</td>\n",
       "      <td>Ministry of Health</td>\n",
       "      <td>https://shendetesia.gov.al/covid19-ministria-e...</td>\n",
       "    </tr>\n",
       "    <tr>\n",
       "      <th>4</th>\n",
       "      <td>Albania</td>\n",
       "      <td>ALB</td>\n",
       "      <td>2021-01-14</td>\n",
       "      <td>266.0</td>\n",
       "      <td>266.0</td>\n",
       "      <td>NaN</td>\n",
       "      <td>78.0</td>\n",
       "      <td>66.0</td>\n",
       "      <td>0.01</td>\n",
       "      <td>0.01</td>\n",
       "      <td>NaN</td>\n",
       "      <td>23.0</td>\n",
       "      <td>Pfizer/BioNTech</td>\n",
       "      <td>Ministry of Health</td>\n",
       "      <td>https://shendetesia.gov.al/covid19-ministria-e...</td>\n",
       "    </tr>\n",
       "    <tr>\n",
       "      <th>5</th>\n",
       "      <td>Albania</td>\n",
       "      <td>ALB</td>\n",
       "      <td>2021-01-15</td>\n",
       "      <td>308.0</td>\n",
       "      <td>308.0</td>\n",
       "      <td>NaN</td>\n",
       "      <td>42.0</td>\n",
       "      <td>62.0</td>\n",
       "      <td>0.01</td>\n",
       "      <td>0.01</td>\n",
       "      <td>NaN</td>\n",
       "      <td>22.0</td>\n",
       "      <td>Pfizer/BioNTech</td>\n",
       "      <td>Ministry of Health</td>\n",
       "      <td>https://shendetesia.gov.al/covid19-ministria-e...</td>\n",
       "    </tr>\n",
       "    <tr>\n",
       "      <th>6</th>\n",
       "      <td>Albania</td>\n",
       "      <td>ALB</td>\n",
       "      <td>2021-01-16</td>\n",
       "      <td>369.0</td>\n",
       "      <td>369.0</td>\n",
       "      <td>NaN</td>\n",
       "      <td>61.0</td>\n",
       "      <td>62.0</td>\n",
       "      <td>0.01</td>\n",
       "      <td>0.01</td>\n",
       "      <td>NaN</td>\n",
       "      <td>22.0</td>\n",
       "      <td>Pfizer/BioNTech</td>\n",
       "      <td>Ministry of Health</td>\n",
       "      <td>https://shendetesia.gov.al/covid19-ministria-e...</td>\n",
       "    </tr>\n",
       "    <tr>\n",
       "      <th>7</th>\n",
       "      <td>Albania</td>\n",
       "      <td>ALB</td>\n",
       "      <td>2021-01-17</td>\n",
       "      <td>405.0</td>\n",
       "      <td>405.0</td>\n",
       "      <td>NaN</td>\n",
       "      <td>36.0</td>\n",
       "      <td>58.0</td>\n",
       "      <td>0.01</td>\n",
       "      <td>0.01</td>\n",
       "      <td>NaN</td>\n",
       "      <td>20.0</td>\n",
       "      <td>Pfizer/BioNTech</td>\n",
       "      <td>Ministry of Health</td>\n",
       "      <td>https://shendetesia.gov.al/covid19-ministria-e...</td>\n",
       "    </tr>\n",
       "    <tr>\n",
       "      <th>8</th>\n",
       "      <td>Albania</td>\n",
       "      <td>ALB</td>\n",
       "      <td>2021-01-18</td>\n",
       "      <td>447.0</td>\n",
       "      <td>447.0</td>\n",
       "      <td>NaN</td>\n",
       "      <td>42.0</td>\n",
       "      <td>55.0</td>\n",
       "      <td>0.02</td>\n",
       "      <td>0.02</td>\n",
       "      <td>NaN</td>\n",
       "      <td>19.0</td>\n",
       "      <td>Pfizer/BioNTech</td>\n",
       "      <td>Ministry of Health</td>\n",
       "      <td>https://shendetesia.gov.al/covid19-ministria-e...</td>\n",
       "    </tr>\n",
       "    <tr>\n",
       "      <th>9</th>\n",
       "      <td>Albania</td>\n",
       "      <td>ALB</td>\n",
       "      <td>2021-01-19</td>\n",
       "      <td>483.0</td>\n",
       "      <td>483.0</td>\n",
       "      <td>NaN</td>\n",
       "      <td>36.0</td>\n",
       "      <td>51.0</td>\n",
       "      <td>0.02</td>\n",
       "      <td>0.02</td>\n",
       "      <td>NaN</td>\n",
       "      <td>18.0</td>\n",
       "      <td>Pfizer/BioNTech</td>\n",
       "      <td>Ministry of Health</td>\n",
       "      <td>https://shendetesia.gov.al/covid19-ministria-e...</td>\n",
       "    </tr>\n",
       "  </tbody>\n",
       "</table>\n",
       "</div>"
      ],
      "text/plain": [
       "   country iso_code        date  total_vaccinations  people_vaccinated  \\\n",
       "0  Albania      ALB  2021-01-10                 0.0                0.0   \n",
       "1  Albania      ALB  2021-01-11                 NaN                NaN   \n",
       "2  Albania      ALB  2021-01-12               128.0              128.0   \n",
       "3  Albania      ALB  2021-01-13               188.0              188.0   \n",
       "4  Albania      ALB  2021-01-14               266.0              266.0   \n",
       "5  Albania      ALB  2021-01-15               308.0              308.0   \n",
       "6  Albania      ALB  2021-01-16               369.0              369.0   \n",
       "7  Albania      ALB  2021-01-17               405.0              405.0   \n",
       "8  Albania      ALB  2021-01-18               447.0              447.0   \n",
       "9  Albania      ALB  2021-01-19               483.0              483.0   \n",
       "\n",
       "   people_fully_vaccinated  daily_vaccinations_raw  daily_vaccinations  \\\n",
       "0                      NaN                     NaN                 NaN   \n",
       "1                      NaN                     NaN                64.0   \n",
       "2                      NaN                     NaN                64.0   \n",
       "3                      NaN                    60.0                63.0   \n",
       "4                      NaN                    78.0                66.0   \n",
       "5                      NaN                    42.0                62.0   \n",
       "6                      NaN                    61.0                62.0   \n",
       "7                      NaN                    36.0                58.0   \n",
       "8                      NaN                    42.0                55.0   \n",
       "9                      NaN                    36.0                51.0   \n",
       "\n",
       "   total_vaccinations_per_hundred  people_vaccinated_per_hundred  \\\n",
       "0                            0.00                           0.00   \n",
       "1                             NaN                            NaN   \n",
       "2                            0.00                           0.00   \n",
       "3                            0.01                           0.01   \n",
       "4                            0.01                           0.01   \n",
       "5                            0.01                           0.01   \n",
       "6                            0.01                           0.01   \n",
       "7                            0.01                           0.01   \n",
       "8                            0.02                           0.02   \n",
       "9                            0.02                           0.02   \n",
       "\n",
       "   people_fully_vaccinated_per_hundred  daily_vaccinations_per_million  \\\n",
       "0                                  NaN                             NaN   \n",
       "1                                  NaN                            22.0   \n",
       "2                                  NaN                            22.0   \n",
       "3                                  NaN                            22.0   \n",
       "4                                  NaN                            23.0   \n",
       "5                                  NaN                            22.0   \n",
       "6                                  NaN                            22.0   \n",
       "7                                  NaN                            20.0   \n",
       "8                                  NaN                            19.0   \n",
       "9                                  NaN                            18.0   \n",
       "\n",
       "          vaccines         source_name  \\\n",
       "0  Pfizer/BioNTech  Ministry of Health   \n",
       "1  Pfizer/BioNTech  Ministry of Health   \n",
       "2  Pfizer/BioNTech  Ministry of Health   \n",
       "3  Pfizer/BioNTech  Ministry of Health   \n",
       "4  Pfizer/BioNTech  Ministry of Health   \n",
       "5  Pfizer/BioNTech  Ministry of Health   \n",
       "6  Pfizer/BioNTech  Ministry of Health   \n",
       "7  Pfizer/BioNTech  Ministry of Health   \n",
       "8  Pfizer/BioNTech  Ministry of Health   \n",
       "9  Pfizer/BioNTech  Ministry of Health   \n",
       "\n",
       "                                      source_website  \n",
       "0  https://shendetesia.gov.al/covid19-ministria-e...  \n",
       "1  https://shendetesia.gov.al/covid19-ministria-e...  \n",
       "2  https://shendetesia.gov.al/covid19-ministria-e...  \n",
       "3  https://shendetesia.gov.al/covid19-ministria-e...  \n",
       "4  https://shendetesia.gov.al/covid19-ministria-e...  \n",
       "5  https://shendetesia.gov.al/covid19-ministria-e...  \n",
       "6  https://shendetesia.gov.al/covid19-ministria-e...  \n",
       "7  https://shendetesia.gov.al/covid19-ministria-e...  \n",
       "8  https://shendetesia.gov.al/covid19-ministria-e...  \n",
       "9  https://shendetesia.gov.al/covid19-ministria-e...  "
      ]
     },
     "execution_count": 2,
     "metadata": {},
     "output_type": "execute_result"
    }
   ],
   "source": [
    "dataset = pd.read_csv(\"country_vaccinations.csv\")\n",
    "dataset.head(10) # we check the first 10 rows of our dataset"
   ]
  },
  {
   "cell_type": "code",
   "execution_count": 3,
   "metadata": {},
   "outputs": [
    {
     "data": {
      "text/plain": [
       "Index(['country', 'iso_code', 'date', 'total_vaccinations',\n",
       "       'people_vaccinated', 'people_fully_vaccinated',\n",
       "       'daily_vaccinations_raw', 'daily_vaccinations',\n",
       "       'total_vaccinations_per_hundred', 'people_vaccinated_per_hundred',\n",
       "       'people_fully_vaccinated_per_hundred', 'daily_vaccinations_per_million',\n",
       "       'vaccines', 'source_name', 'source_website'],\n",
       "      dtype='object')"
      ]
     },
     "execution_count": 3,
     "metadata": {},
     "output_type": "execute_result"
    }
   ],
   "source": [
    "dataset.columns # we read the column names"
   ]
  },
  {
   "cell_type": "markdown",
   "metadata": {},
   "source": [
    "As i'm planning to predict the **total vaccinations (y)** based on the other **features of the dataset (x)**, where x is my independent variable (in this case, more than one) and y is the dependent variable."
   ]
  },
  {
   "cell_type": "code",
   "execution_count": 4,
   "metadata": {},
   "outputs": [],
   "source": [
    "x_df = dataset[['country', 'date','daily_vaccinations_raw', 'daily_vaccinations','total_vaccinations_per_hundred', 'people_vaccinated_per_hundred',\n",
    "       'people_fully_vaccinated_per_hundred', 'daily_vaccinations_per_million','vaccines']] # independent variables\n",
    "y_df = dataset[['total_vaccinations']] # dependent variable\n",
    "\n",
    "x = x_df.values # as array\n",
    "y = y_df.values # as array"
   ]
  },
  {
   "cell_type": "code",
   "execution_count": 5,
   "metadata": {},
   "outputs": [
    {
     "data": {
      "text/plain": [
       "array([['Albania', '2021-01-10', nan, nan, 0.0, 0.0, nan, nan,\n",
       "        'Pfizer/BioNTech'],\n",
       "       ['Albania', '2021-01-11', nan, 64.0, nan, nan, nan, 22.0,\n",
       "        'Pfizer/BioNTech'],\n",
       "       ['Albania', '2021-01-12', nan, 64.0, 0.0, 0.0, nan, 22.0,\n",
       "        'Pfizer/BioNTech'],\n",
       "       ['Albania', '2021-01-13', 60.0, 63.0, 0.01, 0.01, nan, 22.0,\n",
       "        'Pfizer/BioNTech'],\n",
       "       ['Albania', '2021-01-14', 78.0, 66.0, 0.01, 0.01, nan, 23.0,\n",
       "        'Pfizer/BioNTech'],\n",
       "       ['Albania', '2021-01-15', 42.0, 62.0, 0.01, 0.01, nan, 22.0,\n",
       "        'Pfizer/BioNTech'],\n",
       "       ['Albania', '2021-01-16', 61.0, 62.0, 0.01, 0.01, nan, 22.0,\n",
       "        'Pfizer/BioNTech'],\n",
       "       ['Albania', '2021-01-17', 36.0, 58.0, 0.01, 0.01, nan, 20.0,\n",
       "        'Pfizer/BioNTech'],\n",
       "       ['Albania', '2021-01-18', 42.0, 55.0, 0.02, 0.02, nan, 19.0,\n",
       "        'Pfizer/BioNTech'],\n",
       "       ['Albania', '2021-01-19', 36.0, 51.0, 0.02, 0.02, nan, 18.0,\n",
       "        'Pfizer/BioNTech']], dtype=object)"
      ]
     },
     "execution_count": 5,
     "metadata": {},
     "output_type": "execute_result"
    }
   ],
   "source": [
    "x[0:10,:] # we check the first 10 rows of our array x"
   ]
  },
  {
   "cell_type": "code",
   "execution_count": 6,
   "metadata": {},
   "outputs": [
    {
     "data": {
      "text/plain": [
       "array([[  0.],\n",
       "       [ nan],\n",
       "       [128.],\n",
       "       [188.],\n",
       "       [266.],\n",
       "       [308.],\n",
       "       [369.],\n",
       "       [405.],\n",
       "       [447.],\n",
       "       [483.]])"
      ]
     },
     "execution_count": 6,
     "metadata": {},
     "output_type": "execute_result"
    }
   ],
   "source": [
    "y[0:10,:] # we check the first 10 rows of our array y"
   ]
  },
  {
   "cell_type": "markdown",
   "metadata": {},
   "source": [
    "## Taking care of missing data"
   ]
  },
  {
   "cell_type": "markdown",
   "metadata": {},
   "source": [
    "We notice that the dataset has some 'NaN' values, which we can not use to train and test our model, so **we need to normalize** them, although deleting them is also an option, we will replace them using the SimpleImputer class."
   ]
  },
  {
   "cell_type": "code",
   "execution_count": 7,
   "metadata": {},
   "outputs": [],
   "source": [
    "from sklearn.impute import SimpleImputer # importing the SimpleImputer class that let's us replace the missing values \n",
    "                                         # with the average of the column\n",
    "\n",
    "imputer = SimpleImputer(missing_values= np.nan, strategy=\"mean\")"
   ]
  },
  {
   "cell_type": "markdown",
   "metadata": {},
   "source": [
    "Applied to x:"
   ]
  },
  {
   "cell_type": "code",
   "execution_count": 8,
   "metadata": {},
   "outputs": [
    {
     "data": {
      "text/plain": [
       "array([['Albania', '2021-01-10', 74045.48985801217, 57184.43567251462,\n",
       "        0.0, 0.0, 1.7913693270735522, 2284.0280701754386,\n",
       "        'Pfizer/BioNTech'],\n",
       "       ['Albania', '2021-01-11', 74045.48985801217, 64.0,\n",
       "        6.074087996582658, 5.177969072164948, 1.7913693270735522, 22.0,\n",
       "        'Pfizer/BioNTech'],\n",
       "       ['Albania', '2021-01-12', 74045.48985801217, 64.0, 0.0, 0.0,\n",
       "        1.7913693270735522, 22.0, 'Pfizer/BioNTech'],\n",
       "       ['Albania', '2021-01-13', 60.0, 63.0, 0.01, 0.01,\n",
       "        1.7913693270735522, 22.0, 'Pfizer/BioNTech'],\n",
       "       ['Albania', '2021-01-14', 78.0, 66.0, 0.01, 0.01,\n",
       "        1.7913693270735522, 23.0, 'Pfizer/BioNTech'],\n",
       "       ['Albania', '2021-01-15', 42.0, 62.0, 0.01, 0.01,\n",
       "        1.7913693270735522, 22.0, 'Pfizer/BioNTech'],\n",
       "       ['Albania', '2021-01-16', 61.0, 62.0, 0.01, 0.01,\n",
       "        1.7913693270735522, 22.0, 'Pfizer/BioNTech'],\n",
       "       ['Albania', '2021-01-17', 36.0, 58.0, 0.01, 0.01,\n",
       "        1.7913693270735522, 20.0, 'Pfizer/BioNTech'],\n",
       "       ['Albania', '2021-01-18', 42.0, 55.0, 0.02, 0.02,\n",
       "        1.7913693270735522, 19.0, 'Pfizer/BioNTech'],\n",
       "       ['Albania', '2021-01-19', 36.0, 51.0, 0.02, 0.02,\n",
       "        1.7913693270735522, 18.0, 'Pfizer/BioNTech']], dtype=object)"
      ]
     },
     "execution_count": 8,
     "metadata": {},
     "output_type": "execute_result"
    }
   ],
   "source": [
    "imputer.fit(X = x[:, 2:8]) # expects only the numerical values columns, not the category ones\n",
    "\n",
    "x[:,2:8] = imputer.transform(x[:,2:8]) # we replace the missing values on the original array\n",
    "x[0:10,:]"
   ]
  },
  {
   "cell_type": "markdown",
   "metadata": {},
   "source": [
    "Applied to y:"
   ]
  },
  {
   "cell_type": "code",
   "execution_count": 9,
   "metadata": {},
   "outputs": [
    {
     "data": {
      "text/plain": [
       "array([[0.00000000e+00],\n",
       "       [1.48631876e+06],\n",
       "       [1.28000000e+02],\n",
       "       [1.88000000e+02],\n",
       "       [2.66000000e+02],\n",
       "       [3.08000000e+02],\n",
       "       [3.69000000e+02],\n",
       "       [4.05000000e+02],\n",
       "       [4.47000000e+02],\n",
       "       [4.83000000e+02]])"
      ]
     },
     "execution_count": 9,
     "metadata": {},
     "output_type": "execute_result"
    }
   ],
   "source": [
    "imputer.fit(X = y) # expects only the numerical values columns, not the category ones\n",
    "\n",
    "y = imputer.transform(y) # we replace the missing values on the original array\n",
    "y[0:10,:]"
   ]
  },
  {
   "cell_type": "markdown",
   "metadata": {},
   "source": [
    "## Encoding categorical data"
   ]
  },
  {
   "cell_type": "markdown",
   "metadata": {},
   "source": [
    "In order to train our models with categorical data, we need to **encode** the categories into \"dummy variables\", this needs to be done because we can not train regression models directly with strings."
   ]
  },
  {
   "cell_type": "code",
   "execution_count": 10,
   "metadata": {},
   "outputs": [
    {
     "data": {
      "text/html": [
       "<div>\n",
       "<style scoped>\n",
       "    .dataframe tbody tr th:only-of-type {\n",
       "        vertical-align: middle;\n",
       "    }\n",
       "\n",
       "    .dataframe tbody tr th {\n",
       "        vertical-align: top;\n",
       "    }\n",
       "\n",
       "    .dataframe thead th {\n",
       "        text-align: right;\n",
       "    }\n",
       "</style>\n",
       "<table border=\"1\" class=\"dataframe\">\n",
       "  <thead>\n",
       "    <tr style=\"text-align: right;\">\n",
       "      <th></th>\n",
       "      <th>country</th>\n",
       "      <th>date</th>\n",
       "      <th>daily_vaccinations_raw</th>\n",
       "      <th>daily_vaccinations</th>\n",
       "      <th>total_vaccinations_per_hundred</th>\n",
       "      <th>people_vaccinated_per_hundred</th>\n",
       "      <th>people_fully_vaccinated_per_hundred</th>\n",
       "      <th>daily_vaccinations_per_million</th>\n",
       "      <th>vaccines</th>\n",
       "    </tr>\n",
       "  </thead>\n",
       "  <tbody>\n",
       "    <tr>\n",
       "      <th>0</th>\n",
       "      <td>Albania</td>\n",
       "      <td>2021-01-10</td>\n",
       "      <td>74045.489858</td>\n",
       "      <td>57184.435673</td>\n",
       "      <td>0.0</td>\n",
       "      <td>0.0</td>\n",
       "      <td>1.791369</td>\n",
       "      <td>2284.02807</td>\n",
       "      <td>Pfizer/BioNTech</td>\n",
       "    </tr>\n",
       "    <tr>\n",
       "      <th>1</th>\n",
       "      <td>Albania</td>\n",
       "      <td>2021-01-11</td>\n",
       "      <td>74045.489858</td>\n",
       "      <td>64.0</td>\n",
       "      <td>6.074088</td>\n",
       "      <td>5.177969</td>\n",
       "      <td>1.791369</td>\n",
       "      <td>22.0</td>\n",
       "      <td>Pfizer/BioNTech</td>\n",
       "    </tr>\n",
       "    <tr>\n",
       "      <th>2</th>\n",
       "      <td>Albania</td>\n",
       "      <td>2021-01-12</td>\n",
       "      <td>74045.489858</td>\n",
       "      <td>64.0</td>\n",
       "      <td>0.0</td>\n",
       "      <td>0.0</td>\n",
       "      <td>1.791369</td>\n",
       "      <td>22.0</td>\n",
       "      <td>Pfizer/BioNTech</td>\n",
       "    </tr>\n",
       "    <tr>\n",
       "      <th>3</th>\n",
       "      <td>Albania</td>\n",
       "      <td>2021-01-13</td>\n",
       "      <td>60.0</td>\n",
       "      <td>63.0</td>\n",
       "      <td>0.01</td>\n",
       "      <td>0.01</td>\n",
       "      <td>1.791369</td>\n",
       "      <td>22.0</td>\n",
       "      <td>Pfizer/BioNTech</td>\n",
       "    </tr>\n",
       "    <tr>\n",
       "      <th>4</th>\n",
       "      <td>Albania</td>\n",
       "      <td>2021-01-14</td>\n",
       "      <td>78.0</td>\n",
       "      <td>66.0</td>\n",
       "      <td>0.01</td>\n",
       "      <td>0.01</td>\n",
       "      <td>1.791369</td>\n",
       "      <td>23.0</td>\n",
       "      <td>Pfizer/BioNTech</td>\n",
       "    </tr>\n",
       "    <tr>\n",
       "      <th>...</th>\n",
       "      <td>...</td>\n",
       "      <td>...</td>\n",
       "      <td>...</td>\n",
       "      <td>...</td>\n",
       "      <td>...</td>\n",
       "      <td>...</td>\n",
       "      <td>...</td>\n",
       "      <td>...</td>\n",
       "      <td>...</td>\n",
       "    </tr>\n",
       "    <tr>\n",
       "      <th>3550</th>\n",
       "      <td>Wales</td>\n",
       "      <td>2021-02-14</td>\n",
       "      <td>13987.0</td>\n",
       "      <td>26206.0</td>\n",
       "      <td>25.06</td>\n",
       "      <td>24.89</td>\n",
       "      <td>0.17</td>\n",
       "      <td>8312.0</td>\n",
       "      <td>Oxford/AstraZeneca, Pfizer/BioNTech</td>\n",
       "    </tr>\n",
       "    <tr>\n",
       "      <th>3551</th>\n",
       "      <td>Wales</td>\n",
       "      <td>2021-02-15</td>\n",
       "      <td>12967.0</td>\n",
       "      <td>24418.0</td>\n",
       "      <td>25.47</td>\n",
       "      <td>25.24</td>\n",
       "      <td>0.23</td>\n",
       "      <td>7745.0</td>\n",
       "      <td>Oxford/AstraZeneca, Pfizer/BioNTech</td>\n",
       "    </tr>\n",
       "    <tr>\n",
       "      <th>3552</th>\n",
       "      <td>Wales</td>\n",
       "      <td>2021-02-16</td>\n",
       "      <td>17161.0</td>\n",
       "      <td>23033.0</td>\n",
       "      <td>26.02</td>\n",
       "      <td>25.61</td>\n",
       "      <td>0.41</td>\n",
       "      <td>7305.0</td>\n",
       "      <td>Oxford/AstraZeneca, Pfizer/BioNTech</td>\n",
       "    </tr>\n",
       "    <tr>\n",
       "      <th>3553</th>\n",
       "      <td>Wales</td>\n",
       "      <td>2021-02-17</td>\n",
       "      <td>21636.0</td>\n",
       "      <td>22012.0</td>\n",
       "      <td>26.7</td>\n",
       "      <td>26.09</td>\n",
       "      <td>0.61</td>\n",
       "      <td>6982.0</td>\n",
       "      <td>Oxford/AstraZeneca, Pfizer/BioNTech</td>\n",
       "    </tr>\n",
       "    <tr>\n",
       "      <th>3554</th>\n",
       "      <td>Wales</td>\n",
       "      <td>2021-02-18</td>\n",
       "      <td>22523.0</td>\n",
       "      <td>20649.0</td>\n",
       "      <td>27.42</td>\n",
       "      <td>26.61</td>\n",
       "      <td>0.81</td>\n",
       "      <td>6549.0</td>\n",
       "      <td>Oxford/AstraZeneca, Pfizer/BioNTech</td>\n",
       "    </tr>\n",
       "  </tbody>\n",
       "</table>\n",
       "<p>3555 rows × 9 columns</p>\n",
       "</div>"
      ],
      "text/plain": [
       "      country        date daily_vaccinations_raw daily_vaccinations  \\\n",
       "0     Albania  2021-01-10           74045.489858       57184.435673   \n",
       "1     Albania  2021-01-11           74045.489858               64.0   \n",
       "2     Albania  2021-01-12           74045.489858               64.0   \n",
       "3     Albania  2021-01-13                   60.0               63.0   \n",
       "4     Albania  2021-01-14                   78.0               66.0   \n",
       "...       ...         ...                    ...                ...   \n",
       "3550    Wales  2021-02-14                13987.0            26206.0   \n",
       "3551    Wales  2021-02-15                12967.0            24418.0   \n",
       "3552    Wales  2021-02-16                17161.0            23033.0   \n",
       "3553    Wales  2021-02-17                21636.0            22012.0   \n",
       "3554    Wales  2021-02-18                22523.0            20649.0   \n",
       "\n",
       "     total_vaccinations_per_hundred people_vaccinated_per_hundred  \\\n",
       "0                               0.0                           0.0   \n",
       "1                          6.074088                      5.177969   \n",
       "2                               0.0                           0.0   \n",
       "3                              0.01                          0.01   \n",
       "4                              0.01                          0.01   \n",
       "...                             ...                           ...   \n",
       "3550                          25.06                         24.89   \n",
       "3551                          25.47                         25.24   \n",
       "3552                          26.02                         25.61   \n",
       "3553                           26.7                         26.09   \n",
       "3554                          27.42                         26.61   \n",
       "\n",
       "     people_fully_vaccinated_per_hundred daily_vaccinations_per_million  \\\n",
       "0                               1.791369                     2284.02807   \n",
       "1                               1.791369                           22.0   \n",
       "2                               1.791369                           22.0   \n",
       "3                               1.791369                           22.0   \n",
       "4                               1.791369                           23.0   \n",
       "...                                  ...                            ...   \n",
       "3550                                0.17                         8312.0   \n",
       "3551                                0.23                         7745.0   \n",
       "3552                                0.41                         7305.0   \n",
       "3553                                0.61                         6982.0   \n",
       "3554                                0.81                         6549.0   \n",
       "\n",
       "                                 vaccines  \n",
       "0                         Pfizer/BioNTech  \n",
       "1                         Pfizer/BioNTech  \n",
       "2                         Pfizer/BioNTech  \n",
       "3                         Pfizer/BioNTech  \n",
       "4                         Pfizer/BioNTech  \n",
       "...                                   ...  \n",
       "3550  Oxford/AstraZeneca, Pfizer/BioNTech  \n",
       "3551  Oxford/AstraZeneca, Pfizer/BioNTech  \n",
       "3552  Oxford/AstraZeneca, Pfizer/BioNTech  \n",
       "3553  Oxford/AstraZeneca, Pfizer/BioNTech  \n",
       "3554  Oxford/AstraZeneca, Pfizer/BioNTech  \n",
       "\n",
       "[3555 rows x 9 columns]"
      ]
     },
     "execution_count": 10,
     "metadata": {},
     "output_type": "execute_result"
    }
   ],
   "source": [
    "x_df = pd.DataFrame(x, columns = ['country', 'date','daily_vaccinations_raw', 'daily_vaccinations','total_vaccinations_per_hundred', 'people_vaccinated_per_hundred','people_fully_vaccinated_per_hundred', 'daily_vaccinations_per_million','vaccines'])\n",
    "x_df"
   ]
  },
  {
   "cell_type": "code",
   "execution_count": 11,
   "metadata": {},
   "outputs": [],
   "source": [
    "x_df_nodummies = x_df\n",
    "x_df = pd.get_dummies(x_df, columns=[\"date\",\"country\", \"vaccines\"], prefix=[\"date\",\"country\", \"vaccines\"]) # now, x_df has the dummy variables"
   ]
  },
  {
   "cell_type": "code",
   "execution_count": 12,
   "metadata": {},
   "outputs": [
    {
     "data": {
      "text/html": [
       "<div>\n",
       "<style scoped>\n",
       "    .dataframe tbody tr th:only-of-type {\n",
       "        vertical-align: middle;\n",
       "    }\n",
       "\n",
       "    .dataframe tbody tr th {\n",
       "        vertical-align: top;\n",
       "    }\n",
       "\n",
       "    .dataframe thead th {\n",
       "        text-align: right;\n",
       "    }\n",
       "</style>\n",
       "<table border=\"1\" class=\"dataframe\">\n",
       "  <thead>\n",
       "    <tr style=\"text-align: right;\">\n",
       "      <th></th>\n",
       "      <th>daily_vaccinations_raw</th>\n",
       "      <th>daily_vaccinations</th>\n",
       "      <th>total_vaccinations_per_hundred</th>\n",
       "      <th>people_vaccinated_per_hundred</th>\n",
       "      <th>people_fully_vaccinated_per_hundred</th>\n",
       "      <th>daily_vaccinations_per_million</th>\n",
       "      <th>date_2020-12-13</th>\n",
       "      <th>date_2020-12-14</th>\n",
       "      <th>date_2020-12-15</th>\n",
       "      <th>date_2020-12-16</th>\n",
       "      <th>...</th>\n",
       "      <th>vaccines_Oxford/AstraZeneca, Sinovac</th>\n",
       "      <th>vaccines_Oxford/AstraZeneca, Sputnik V</th>\n",
       "      <th>vaccines_Pfizer/BioNTech</th>\n",
       "      <th>vaccines_Pfizer/BioNTech, Sinopharm/Beijing</th>\n",
       "      <th>vaccines_Pfizer/BioNTech, Sinopharm/Beijing, Sputnik V</th>\n",
       "      <th>vaccines_Pfizer/BioNTech, Sinovac</th>\n",
       "      <th>vaccines_Sinopharm/Beijing</th>\n",
       "      <th>vaccines_Sinopharm/Beijing, Sinopharm/Wuhan, Sinovac</th>\n",
       "      <th>vaccines_Sinovac</th>\n",
       "      <th>vaccines_Sputnik V</th>\n",
       "    </tr>\n",
       "  </thead>\n",
       "  <tbody>\n",
       "    <tr>\n",
       "      <th>0</th>\n",
       "      <td>74045.489858</td>\n",
       "      <td>57184.435673</td>\n",
       "      <td>0.0</td>\n",
       "      <td>0.0</td>\n",
       "      <td>1.791369</td>\n",
       "      <td>2284.02807</td>\n",
       "      <td>0</td>\n",
       "      <td>0</td>\n",
       "      <td>0</td>\n",
       "      <td>0</td>\n",
       "      <td>...</td>\n",
       "      <td>0</td>\n",
       "      <td>0</td>\n",
       "      <td>1</td>\n",
       "      <td>0</td>\n",
       "      <td>0</td>\n",
       "      <td>0</td>\n",
       "      <td>0</td>\n",
       "      <td>0</td>\n",
       "      <td>0</td>\n",
       "      <td>0</td>\n",
       "    </tr>\n",
       "    <tr>\n",
       "      <th>1</th>\n",
       "      <td>74045.489858</td>\n",
       "      <td>64.0</td>\n",
       "      <td>6.074088</td>\n",
       "      <td>5.177969</td>\n",
       "      <td>1.791369</td>\n",
       "      <td>22.0</td>\n",
       "      <td>0</td>\n",
       "      <td>0</td>\n",
       "      <td>0</td>\n",
       "      <td>0</td>\n",
       "      <td>...</td>\n",
       "      <td>0</td>\n",
       "      <td>0</td>\n",
       "      <td>1</td>\n",
       "      <td>0</td>\n",
       "      <td>0</td>\n",
       "      <td>0</td>\n",
       "      <td>0</td>\n",
       "      <td>0</td>\n",
       "      <td>0</td>\n",
       "      <td>0</td>\n",
       "    </tr>\n",
       "    <tr>\n",
       "      <th>2</th>\n",
       "      <td>74045.489858</td>\n",
       "      <td>64.0</td>\n",
       "      <td>0.0</td>\n",
       "      <td>0.0</td>\n",
       "      <td>1.791369</td>\n",
       "      <td>22.0</td>\n",
       "      <td>0</td>\n",
       "      <td>0</td>\n",
       "      <td>0</td>\n",
       "      <td>0</td>\n",
       "      <td>...</td>\n",
       "      <td>0</td>\n",
       "      <td>0</td>\n",
       "      <td>1</td>\n",
       "      <td>0</td>\n",
       "      <td>0</td>\n",
       "      <td>0</td>\n",
       "      <td>0</td>\n",
       "      <td>0</td>\n",
       "      <td>0</td>\n",
       "      <td>0</td>\n",
       "    </tr>\n",
       "    <tr>\n",
       "      <th>3</th>\n",
       "      <td>60.0</td>\n",
       "      <td>63.0</td>\n",
       "      <td>0.01</td>\n",
       "      <td>0.01</td>\n",
       "      <td>1.791369</td>\n",
       "      <td>22.0</td>\n",
       "      <td>0</td>\n",
       "      <td>0</td>\n",
       "      <td>0</td>\n",
       "      <td>0</td>\n",
       "      <td>...</td>\n",
       "      <td>0</td>\n",
       "      <td>0</td>\n",
       "      <td>1</td>\n",
       "      <td>0</td>\n",
       "      <td>0</td>\n",
       "      <td>0</td>\n",
       "      <td>0</td>\n",
       "      <td>0</td>\n",
       "      <td>0</td>\n",
       "      <td>0</td>\n",
       "    </tr>\n",
       "    <tr>\n",
       "      <th>4</th>\n",
       "      <td>78.0</td>\n",
       "      <td>66.0</td>\n",
       "      <td>0.01</td>\n",
       "      <td>0.01</td>\n",
       "      <td>1.791369</td>\n",
       "      <td>23.0</td>\n",
       "      <td>0</td>\n",
       "      <td>0</td>\n",
       "      <td>0</td>\n",
       "      <td>0</td>\n",
       "      <td>...</td>\n",
       "      <td>0</td>\n",
       "      <td>0</td>\n",
       "      <td>1</td>\n",
       "      <td>0</td>\n",
       "      <td>0</td>\n",
       "      <td>0</td>\n",
       "      <td>0</td>\n",
       "      <td>0</td>\n",
       "      <td>0</td>\n",
       "      <td>0</td>\n",
       "    </tr>\n",
       "    <tr>\n",
       "      <th>...</th>\n",
       "      <td>...</td>\n",
       "      <td>...</td>\n",
       "      <td>...</td>\n",
       "      <td>...</td>\n",
       "      <td>...</td>\n",
       "      <td>...</td>\n",
       "      <td>...</td>\n",
       "      <td>...</td>\n",
       "      <td>...</td>\n",
       "      <td>...</td>\n",
       "      <td>...</td>\n",
       "      <td>...</td>\n",
       "      <td>...</td>\n",
       "      <td>...</td>\n",
       "      <td>...</td>\n",
       "      <td>...</td>\n",
       "      <td>...</td>\n",
       "      <td>...</td>\n",
       "      <td>...</td>\n",
       "      <td>...</td>\n",
       "      <td>...</td>\n",
       "    </tr>\n",
       "    <tr>\n",
       "      <th>3550</th>\n",
       "      <td>13987.0</td>\n",
       "      <td>26206.0</td>\n",
       "      <td>25.06</td>\n",
       "      <td>24.89</td>\n",
       "      <td>0.17</td>\n",
       "      <td>8312.0</td>\n",
       "      <td>0</td>\n",
       "      <td>0</td>\n",
       "      <td>0</td>\n",
       "      <td>0</td>\n",
       "      <td>...</td>\n",
       "      <td>0</td>\n",
       "      <td>0</td>\n",
       "      <td>0</td>\n",
       "      <td>0</td>\n",
       "      <td>0</td>\n",
       "      <td>0</td>\n",
       "      <td>0</td>\n",
       "      <td>0</td>\n",
       "      <td>0</td>\n",
       "      <td>0</td>\n",
       "    </tr>\n",
       "    <tr>\n",
       "      <th>3551</th>\n",
       "      <td>12967.0</td>\n",
       "      <td>24418.0</td>\n",
       "      <td>25.47</td>\n",
       "      <td>25.24</td>\n",
       "      <td>0.23</td>\n",
       "      <td>7745.0</td>\n",
       "      <td>0</td>\n",
       "      <td>0</td>\n",
       "      <td>0</td>\n",
       "      <td>0</td>\n",
       "      <td>...</td>\n",
       "      <td>0</td>\n",
       "      <td>0</td>\n",
       "      <td>0</td>\n",
       "      <td>0</td>\n",
       "      <td>0</td>\n",
       "      <td>0</td>\n",
       "      <td>0</td>\n",
       "      <td>0</td>\n",
       "      <td>0</td>\n",
       "      <td>0</td>\n",
       "    </tr>\n",
       "    <tr>\n",
       "      <th>3552</th>\n",
       "      <td>17161.0</td>\n",
       "      <td>23033.0</td>\n",
       "      <td>26.02</td>\n",
       "      <td>25.61</td>\n",
       "      <td>0.41</td>\n",
       "      <td>7305.0</td>\n",
       "      <td>0</td>\n",
       "      <td>0</td>\n",
       "      <td>0</td>\n",
       "      <td>0</td>\n",
       "      <td>...</td>\n",
       "      <td>0</td>\n",
       "      <td>0</td>\n",
       "      <td>0</td>\n",
       "      <td>0</td>\n",
       "      <td>0</td>\n",
       "      <td>0</td>\n",
       "      <td>0</td>\n",
       "      <td>0</td>\n",
       "      <td>0</td>\n",
       "      <td>0</td>\n",
       "    </tr>\n",
       "    <tr>\n",
       "      <th>3553</th>\n",
       "      <td>21636.0</td>\n",
       "      <td>22012.0</td>\n",
       "      <td>26.7</td>\n",
       "      <td>26.09</td>\n",
       "      <td>0.61</td>\n",
       "      <td>6982.0</td>\n",
       "      <td>0</td>\n",
       "      <td>0</td>\n",
       "      <td>0</td>\n",
       "      <td>0</td>\n",
       "      <td>...</td>\n",
       "      <td>0</td>\n",
       "      <td>0</td>\n",
       "      <td>0</td>\n",
       "      <td>0</td>\n",
       "      <td>0</td>\n",
       "      <td>0</td>\n",
       "      <td>0</td>\n",
       "      <td>0</td>\n",
       "      <td>0</td>\n",
       "      <td>0</td>\n",
       "    </tr>\n",
       "    <tr>\n",
       "      <th>3554</th>\n",
       "      <td>22523.0</td>\n",
       "      <td>20649.0</td>\n",
       "      <td>27.42</td>\n",
       "      <td>26.61</td>\n",
       "      <td>0.81</td>\n",
       "      <td>6549.0</td>\n",
       "      <td>0</td>\n",
       "      <td>0</td>\n",
       "      <td>0</td>\n",
       "      <td>0</td>\n",
       "      <td>...</td>\n",
       "      <td>0</td>\n",
       "      <td>0</td>\n",
       "      <td>0</td>\n",
       "      <td>0</td>\n",
       "      <td>0</td>\n",
       "      <td>0</td>\n",
       "      <td>0</td>\n",
       "      <td>0</td>\n",
       "      <td>0</td>\n",
       "      <td>0</td>\n",
       "    </tr>\n",
       "  </tbody>\n",
       "</table>\n",
       "<p>3555 rows × 191 columns</p>\n",
       "</div>"
      ],
      "text/plain": [
       "     daily_vaccinations_raw daily_vaccinations total_vaccinations_per_hundred  \\\n",
       "0              74045.489858       57184.435673                            0.0   \n",
       "1              74045.489858               64.0                       6.074088   \n",
       "2              74045.489858               64.0                            0.0   \n",
       "3                      60.0               63.0                           0.01   \n",
       "4                      78.0               66.0                           0.01   \n",
       "...                     ...                ...                            ...   \n",
       "3550                13987.0            26206.0                          25.06   \n",
       "3551                12967.0            24418.0                          25.47   \n",
       "3552                17161.0            23033.0                          26.02   \n",
       "3553                21636.0            22012.0                           26.7   \n",
       "3554                22523.0            20649.0                          27.42   \n",
       "\n",
       "     people_vaccinated_per_hundred people_fully_vaccinated_per_hundred  \\\n",
       "0                              0.0                            1.791369   \n",
       "1                         5.177969                            1.791369   \n",
       "2                              0.0                            1.791369   \n",
       "3                             0.01                            1.791369   \n",
       "4                             0.01                            1.791369   \n",
       "...                            ...                                 ...   \n",
       "3550                         24.89                                0.17   \n",
       "3551                         25.24                                0.23   \n",
       "3552                         25.61                                0.41   \n",
       "3553                         26.09                                0.61   \n",
       "3554                         26.61                                0.81   \n",
       "\n",
       "     daily_vaccinations_per_million  date_2020-12-13  date_2020-12-14  \\\n",
       "0                        2284.02807                0                0   \n",
       "1                              22.0                0                0   \n",
       "2                              22.0                0                0   \n",
       "3                              22.0                0                0   \n",
       "4                              23.0                0                0   \n",
       "...                             ...              ...              ...   \n",
       "3550                         8312.0                0                0   \n",
       "3551                         7745.0                0                0   \n",
       "3552                         7305.0                0                0   \n",
       "3553                         6982.0                0                0   \n",
       "3554                         6549.0                0                0   \n",
       "\n",
       "      date_2020-12-15  date_2020-12-16  ...  \\\n",
       "0                   0                0  ...   \n",
       "1                   0                0  ...   \n",
       "2                   0                0  ...   \n",
       "3                   0                0  ...   \n",
       "4                   0                0  ...   \n",
       "...               ...              ...  ...   \n",
       "3550                0                0  ...   \n",
       "3551                0                0  ...   \n",
       "3552                0                0  ...   \n",
       "3553                0                0  ...   \n",
       "3554                0                0  ...   \n",
       "\n",
       "      vaccines_Oxford/AstraZeneca, Sinovac  \\\n",
       "0                                        0   \n",
       "1                                        0   \n",
       "2                                        0   \n",
       "3                                        0   \n",
       "4                                        0   \n",
       "...                                    ...   \n",
       "3550                                     0   \n",
       "3551                                     0   \n",
       "3552                                     0   \n",
       "3553                                     0   \n",
       "3554                                     0   \n",
       "\n",
       "      vaccines_Oxford/AstraZeneca, Sputnik V  vaccines_Pfizer/BioNTech  \\\n",
       "0                                          0                         1   \n",
       "1                                          0                         1   \n",
       "2                                          0                         1   \n",
       "3                                          0                         1   \n",
       "4                                          0                         1   \n",
       "...                                      ...                       ...   \n",
       "3550                                       0                         0   \n",
       "3551                                       0                         0   \n",
       "3552                                       0                         0   \n",
       "3553                                       0                         0   \n",
       "3554                                       0                         0   \n",
       "\n",
       "      vaccines_Pfizer/BioNTech, Sinopharm/Beijing  \\\n",
       "0                                               0   \n",
       "1                                               0   \n",
       "2                                               0   \n",
       "3                                               0   \n",
       "4                                               0   \n",
       "...                                           ...   \n",
       "3550                                            0   \n",
       "3551                                            0   \n",
       "3552                                            0   \n",
       "3553                                            0   \n",
       "3554                                            0   \n",
       "\n",
       "      vaccines_Pfizer/BioNTech, Sinopharm/Beijing, Sputnik V  \\\n",
       "0                                                     0        \n",
       "1                                                     0        \n",
       "2                                                     0        \n",
       "3                                                     0        \n",
       "4                                                     0        \n",
       "...                                                 ...        \n",
       "3550                                                  0        \n",
       "3551                                                  0        \n",
       "3552                                                  0        \n",
       "3553                                                  0        \n",
       "3554                                                  0        \n",
       "\n",
       "      vaccines_Pfizer/BioNTech, Sinovac  vaccines_Sinopharm/Beijing  \\\n",
       "0                                     0                           0   \n",
       "1                                     0                           0   \n",
       "2                                     0                           0   \n",
       "3                                     0                           0   \n",
       "4                                     0                           0   \n",
       "...                                 ...                         ...   \n",
       "3550                                  0                           0   \n",
       "3551                                  0                           0   \n",
       "3552                                  0                           0   \n",
       "3553                                  0                           0   \n",
       "3554                                  0                           0   \n",
       "\n",
       "      vaccines_Sinopharm/Beijing, Sinopharm/Wuhan, Sinovac  vaccines_Sinovac  \\\n",
       "0                                                     0                    0   \n",
       "1                                                     0                    0   \n",
       "2                                                     0                    0   \n",
       "3                                                     0                    0   \n",
       "4                                                     0                    0   \n",
       "...                                                 ...                  ...   \n",
       "3550                                                  0                    0   \n",
       "3551                                                  0                    0   \n",
       "3552                                                  0                    0   \n",
       "3553                                                  0                    0   \n",
       "3554                                                  0                    0   \n",
       "\n",
       "      vaccines_Sputnik V  \n",
       "0                      0  \n",
       "1                      0  \n",
       "2                      0  \n",
       "3                      0  \n",
       "4                      0  \n",
       "...                  ...  \n",
       "3550                   0  \n",
       "3551                   0  \n",
       "3552                   0  \n",
       "3553                   0  \n",
       "3554                   0  \n",
       "\n",
       "[3555 rows x 191 columns]"
      ]
     },
     "execution_count": 12,
     "metadata": {},
     "output_type": "execute_result"
    }
   ],
   "source": [
    "x_df # we verify th structure with the dummy variables"
   ]
  },
  {
   "cell_type": "code",
   "execution_count": 13,
   "metadata": {},
   "outputs": [
    {
     "data": {
      "text/plain": [
       "array([[74045.48985801217, 57184.43567251462, 0.0, ..., 0, 0, 0],\n",
       "       [74045.48985801217, 64.0, 6.074087996582658, ..., 0, 0, 0],\n",
       "       [74045.48985801217, 64.0, 0.0, ..., 0, 0, 0],\n",
       "       ...,\n",
       "       [17161.0, 23033.0, 26.02, ..., 0, 0, 0],\n",
       "       [21636.0, 22012.0, 26.7, ..., 0, 0, 0],\n",
       "       [22523.0, 20649.0, 27.42, ..., 0, 0, 0]], dtype=object)"
      ]
     },
     "execution_count": 13,
     "metadata": {},
     "output_type": "execute_result"
    }
   ],
   "source": [
    "x = x_df.values # convertind the data frame into an array\n",
    "x"
   ]
  },
  {
   "cell_type": "code",
   "execution_count": 14,
   "metadata": {},
   "outputs": [
    {
     "data": {
      "text/plain": [
       "array([[0.00000000e+00],\n",
       "       [1.48631876e+06],\n",
       "       [1.28000000e+02],\n",
       "       ...,\n",
       "       [8.20339000e+05],\n",
       "       [8.41975000e+05],\n",
       "       [8.64498000e+05]])"
      ]
     },
     "execution_count": 14,
     "metadata": {},
     "output_type": "execute_result"
    }
   ],
   "source": [
    "y"
   ]
  },
  {
   "cell_type": "markdown",
   "metadata": {},
   "source": [
    "## Splitting the dataset into the Training set and Test set"
   ]
  },
  {
   "cell_type": "markdown",
   "metadata": {},
   "source": [
    "Let's create our train and test arrays with 20% of the data corresponding to the test array."
   ]
  },
  {
   "cell_type": "code",
   "execution_count": 15,
   "metadata": {},
   "outputs": [],
   "source": [
    "from sklearn.model_selection import train_test_split\n",
    "x_train, x_test, y_train, y_test = train_test_split(x, y, test_size = 0.2, random_state = 1)"
   ]
  },
  {
   "cell_type": "code",
   "execution_count": 16,
   "metadata": {},
   "outputs": [
    {
     "data": {
      "text/plain": [
       "2844"
      ]
     },
     "execution_count": 16,
     "metadata": {},
     "output_type": "execute_result"
    }
   ],
   "source": [
    "len(x_train) # verifying its size"
   ]
  },
  {
   "cell_type": "code",
   "execution_count": 17,
   "metadata": {},
   "outputs": [
    {
     "data": {
      "text/plain": [
       "711"
      ]
     },
     "execution_count": 17,
     "metadata": {},
     "output_type": "execute_result"
    }
   ],
   "source": [
    "len(x_test) # verifying its size"
   ]
  },
  {
   "cell_type": "markdown",
   "metadata": {},
   "source": [
    "# Regression Model Application"
   ]
  },
  {
   "cell_type": "markdown",
   "metadata": {},
   "source": [
    "## 1. **Multiple Linear Regression**"
   ]
  },
  {
   "cell_type": "markdown",
   "metadata": {},
   "source": [
    "### Training the Multiple Linear Regression model on the Training set"
   ]
  },
  {
   "cell_type": "code",
   "execution_count": 18,
   "metadata": {},
   "outputs": [
    {
     "data": {
      "text/plain": [
       "LinearRegression()"
      ]
     },
     "execution_count": 18,
     "metadata": {},
     "output_type": "execute_result"
    }
   ],
   "source": [
    "from sklearn.linear_model import LinearRegression\n",
    "\n",
    "regressor = LinearRegression()\n",
    "regressor.fit(x_train, y_train)"
   ]
  },
  {
   "cell_type": "markdown",
   "metadata": {},
   "source": [
    "### Predicting the Test set results"
   ]
  },
  {
   "cell_type": "markdown",
   "metadata": {},
   "source": [
    "We test the trained model with the test data and concatenate it in an array for easy comparison"
   ]
  },
  {
   "cell_type": "code",
   "execution_count": 19,
   "metadata": {},
   "outputs": [
    {
     "name": "stdout",
     "output_type": "stream",
     "text": [
      "[[ 1.e+06  3.e+04]\n",
      " [-8.e+05  0.e+00]\n",
      " [ 5.e+06  5.e+06]\n",
      " ...\n",
      " [-1.e+05  9.e+04]\n",
      " [ 2.e+07  2.e+07]\n",
      " [-2.e+05  2.e+04]]\n"
     ]
    }
   ],
   "source": [
    "y_pred = regressor.predict(x_test)\n",
    "np.set_printoptions(precision = 0)\n",
    "print(np.concatenate((y_pred.reshape(len(y_pred),1), y_test.reshape(len(y_test),1)),1))"
   ]
  },
  {
   "cell_type": "markdown",
   "metadata": {},
   "source": [
    "### Evaluating the Model Performance"
   ]
  },
  {
   "cell_type": "markdown",
   "metadata": {},
   "source": [
    "We obtain an r squared of 0.82, meaning a fit of 82%"
   ]
  },
  {
   "cell_type": "code",
   "execution_count": 20,
   "metadata": {},
   "outputs": [
    {
     "data": {
      "text/plain": [
       "0.820361971864213"
      ]
     },
     "execution_count": 20,
     "metadata": {},
     "output_type": "execute_result"
    }
   ],
   "source": [
    "from sklearn.metrics import r2_score\n",
    "r2_score(y_test, y_pred)"
   ]
  },
  {
   "cell_type": "markdown",
   "metadata": {},
   "source": [
    "## 2. Polynomial Regression"
   ]
  },
  {
   "cell_type": "markdown",
   "metadata": {},
   "source": [
    "### Training the Polynomial Regression model on the Training set"
   ]
  },
  {
   "cell_type": "code",
   "execution_count": 21,
   "metadata": {},
   "outputs": [
    {
     "data": {
      "text/plain": [
       "LinearRegression()"
      ]
     },
     "execution_count": 21,
     "metadata": {},
     "output_type": "execute_result"
    }
   ],
   "source": [
    "from sklearn.preprocessing import PolynomialFeatures\n",
    "from sklearn.linear_model import LinearRegression\n",
    "\n",
    "poly_reg = PolynomialFeatures(degree = 2)\n",
    "x_poly = poly_reg.fit_transform(x_train)\n",
    "regressor = LinearRegression()\n",
    "regressor.fit(x_poly, y_train)"
   ]
  },
  {
   "cell_type": "markdown",
   "metadata": {},
   "source": [
    "### Predicting the Test set results"
   ]
  },
  {
   "cell_type": "code",
   "execution_count": 22,
   "metadata": {},
   "outputs": [
    {
     "name": "stdout",
     "output_type": "stream",
     "text": [
      "[[-5.50e+03  3.20e+04]\n",
      " [-2.63e+08  0.00e+00]\n",
      " [ 7.68e+06  5.30e+06]\n",
      " ...\n",
      " [ 5.99e+04  9.13e+04]\n",
      " [ 2.42e+07  2.27e+07]\n",
      " [ 2.23e+04  1.93e+04]]\n"
     ]
    }
   ],
   "source": [
    "y_pred = regressor.predict(poly_reg.transform(x_test))\n",
    "np.set_printoptions(precision=2)\n",
    "print(np.concatenate((y_pred.reshape(len(y_pred),1), y_test.reshape(len(y_test),1)),1))"
   ]
  },
  {
   "cell_type": "markdown",
   "metadata": {},
   "source": [
    "### Evaluating the Model Performance"
   ]
  },
  {
   "cell_type": "code",
   "execution_count": 23,
   "metadata": {},
   "outputs": [
    {
     "data": {
      "text/plain": [
       "-275.73153181051356"
      ]
     },
     "execution_count": 23,
     "metadata": {},
     "output_type": "execute_result"
    }
   ],
   "source": [
    "from sklearn.metrics import r2_score\n",
    "r2_score(y_test, y_pred) "
   ]
  },
  {
   "cell_type": "markdown",
   "metadata": {},
   "source": [
    "This result means the performance of our model was really really bad."
   ]
  },
  {
   "cell_type": "markdown",
   "metadata": {},
   "source": [
    "## 3. Decision Tree Regression"
   ]
  },
  {
   "cell_type": "markdown",
   "metadata": {},
   "source": [
    "## Training the model"
   ]
  },
  {
   "cell_type": "code",
   "execution_count": 24,
   "metadata": {},
   "outputs": [
    {
     "data": {
      "text/plain": [
       "DecisionTreeRegressor(random_state=0)"
      ]
     },
     "execution_count": 24,
     "metadata": {},
     "output_type": "execute_result"
    }
   ],
   "source": [
    "from sklearn.tree import DecisionTreeRegressor\n",
    "regressor = DecisionTreeRegressor(random_state = 0)\n",
    "regressor.fit(x_train, y_train)"
   ]
  },
  {
   "cell_type": "markdown",
   "metadata": {},
   "source": [
    "## Predicting the Test set results"
   ]
  },
  {
   "cell_type": "code",
   "execution_count": 25,
   "metadata": {},
   "outputs": [
    {
     "name": "stdout",
     "output_type": "stream",
     "text": [
      "[[6.68e+02 3.20e+04]\n",
      " [0.00e+00 0.00e+00]\n",
      " [5.19e+06 5.30e+06]\n",
      " ...\n",
      " [8.80e+04 9.13e+04]\n",
      " [2.35e+07 2.27e+07]\n",
      " [2.20e+04 1.93e+04]]\n"
     ]
    }
   ],
   "source": [
    "y_pred = regressor.predict(x_test)\n",
    "np.set_printoptions(precision = 2)\n",
    "print(np.concatenate((y_pred.reshape(len(y_pred),1), y_test.reshape(len(y_test),1)),1))"
   ]
  },
  {
   "cell_type": "markdown",
   "metadata": {},
   "source": [
    "## Evaluating Model Performance"
   ]
  },
  {
   "cell_type": "code",
   "execution_count": 26,
   "metadata": {},
   "outputs": [
    {
     "data": {
      "text/plain": [
       "0.9627743674208652"
      ]
     },
     "execution_count": 26,
     "metadata": {},
     "output_type": "execute_result"
    }
   ],
   "source": [
    "from sklearn.metrics import r2_score\n",
    "r2_score(y_test, y_pred)"
   ]
  },
  {
   "cell_type": "markdown",
   "metadata": {},
   "source": [
    "We notice that our Decision Tree Regression model has a fit of 96%, which is actually pretty good!"
   ]
  },
  {
   "cell_type": "markdown",
   "metadata": {},
   "source": [
    "# 4. Random Forest Regression"
   ]
  },
  {
   "cell_type": "markdown",
   "metadata": {},
   "source": [
    "## Training the Random Forest Regression model"
   ]
  },
  {
   "cell_type": "code",
   "execution_count": null,
   "metadata": {},
   "outputs": [],
   "source": [
    "from sklearn.ensemble import RandomForestRegressor\n",
    "regressor = RandomForestRegressor(n_estimators = 10, random_state = 0)\n",
    "regressor.fit(x_train, y_train)"
   ]
  },
  {
   "cell_type": "markdown",
   "metadata": {},
   "source": [
    "## Predicting the Test set results"
   ]
  },
  {
   "cell_type": "code",
   "execution_count": 28,
   "metadata": {},
   "outputs": [
    {
     "name": "stdout",
     "output_type": "stream",
     "text": [
      "[[1.53e+05 3.20e+04]\n",
      " [0.00e+00 0.00e+00]\n",
      " [5.29e+06 5.30e+06]\n",
      " ...\n",
      " [1.28e+05 9.13e+04]\n",
      " [2.15e+07 2.27e+07]\n",
      " [2.11e+04 1.93e+04]]\n"
     ]
    }
   ],
   "source": [
    "y_pred = regressor.predict(x_test)\n",
    "np.set_printoptions(precision=2)\n",
    "print(np.concatenate((y_pred.reshape(len(y_pred),1), y_test.reshape(len(y_test),1)),1))"
   ]
  },
  {
   "cell_type": "markdown",
   "metadata": {},
   "source": [
    "## Evaluating the Model Performance"
   ]
  },
  {
   "cell_type": "code",
   "execution_count": 29,
   "metadata": {},
   "outputs": [
    {
     "data": {
      "text/plain": [
       "0.9659467525523365"
      ]
     },
     "execution_count": 29,
     "metadata": {},
     "output_type": "execute_result"
    }
   ],
   "source": [
    "from sklearn.metrics import r2_score\n",
    "r2_score(y_test, y_pred)"
   ]
  },
  {
   "cell_type": "code",
   "execution_count": null,
   "metadata": {},
   "outputs": [],
   "source": []
  },
  {
   "cell_type": "code",
   "execution_count": 30,
   "metadata": {},
   "outputs": [
    {
     "data": {
      "image/png": "[encoded data removed]",
      "text/plain": [
       "<Figure size 432x288 with 1 Axes>"
      ]
     },
     "metadata": {
      "needs_background": "light"
     },
     "output_type": "display_data"
    }
   ],
   "source": [
    "plt.plot_date(x_df_nodummies.date, x_df_nodummies.vaccines)\n",
    "plt.xticks(rotation ='vertical')\n",
    "plt.show()"
   ]
  },
  {
   "cell_type": "markdown",
   "metadata": {},
   "source": [
    "Finally, we observe that the winner of our previously tested regression models is the **Random Forest Regression model with a fit of 96.59%** which is really great! Now, you can be sure that this is the model that will perform better in case you want to make a prediction of the total vaccinations based on the features selected as predictors in x. **(Stay tuned for the part 2, where we will work a little bit more on the predictions and visualizations of the data)**. By the way, don't forget the performance of each model changes for each dataset, so you actually do need to compare them to select the best one for each case (hint: you can also change their performance by optimizing the default hyperparameters).\n",
    "\n",
    "I really hope this data preprocessing focused project will be helpful for your own projects and makes a big difference on your **Regression Model Selection process** based on performance comparison, keep it up!"
   ]
  }
 ],
 "metadata": {
  "kernelspec": {
   "display_name": "Python 3",
   "language": "python",
   "name": "python3"
  },
  "language_info": {
   "codemirror_mode": {
    "name": "ipython",
    "version": 3
   },
   "file_extension": ".py",
   "mimetype": "text/x-python",
   "name": "python",
   "nbconvert_exporter": "python",
   "pygments_lexer": "ipython3",
   "version": "3.9.2"
  }
 },
 "nbformat": 4,
 "nbformat_minor": 4
}
